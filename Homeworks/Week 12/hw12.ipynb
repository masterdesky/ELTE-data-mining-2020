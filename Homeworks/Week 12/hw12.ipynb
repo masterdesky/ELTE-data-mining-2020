{
 "cells": [
  {
   "cell_type": "markdown",
   "metadata": {},
   "source": [
    "## Last homework\n",
    "\n",
    "This week we will apply techniques learned during the semester as a recap of the learned methods. We will use a dataset from the paper \"Hurricane-induced selection on the morphology of an island lizard\", where body parameters of lizards are measured on an island before and after the hurricane. We will make binary predictions if a lizard was measured before of after the hurricane in the upcoming tasks.\n",
    "\n",
    "When a task is not fully described, try to come up with a reasonable solution!\n",
    "\n",
    "Data source: https://www.nature.com/articles/s41586-018-0352-3#Sec7\n",
    "\n",
    "#### 1. Load & prepare data\n",
    " - load the provided dataset\n",
    " - look for missing values, handle them! Be careful! (You can screw up the whole assignment here)\n",
    " - We will make binary predictions if a lizard was before of after the hurricane in the upcoming tasks. \n",
    " - Convert all the features to numeric or binary features.\n",
    " - get rid of the ID column\n",
    "\n",
    "#### 2. T-SNE\n",
    " - embed the data points into a 2D space via T-SNE (preprocess the data if needed). For embedding, use only the numerical features (So do not use Sex, Hurricane and Origin features)\n",
    " - what is common in the clusters that we got? visualize the embedded points by using different colour for the different fetautre values (eg on a plot show the female gekkos with red and the male ones with blue). Explore at least 4 features! Do we get separation by the Hurricane variable?\n",
    "\n",
    "#### 3. Linear model + fine-tune\n",
    " - train and generate predictions with a logistic regression model using 5 fold cross validation\n",
    " - fine-tune the regularization strength for L2 regularization type!\n",
    " - show the ROC curve with the AUC value for the best model that you have found\n",
    "\n",
    "#### 4. SVM + fine-tune\n",
    " - train and generate predictions with an SVM model using 5 fold cross validation\n",
    " - fine-tune the kernel parameters for 2 selected kernels\n",
    " - show the ROC curve with the AUC value for the best model that you have found\n",
    "\n",
    "#### 5. RF + feature importances\n",
    " - train and generate predictions with a random forest classifier model using leave 5 fold cross validation\n",
    " - show the ROC curve with the AUC value for the best model that you have found\n",
    " - train a random forest model on all the data and show the 5 most important features based on feature importances of the model\n",
    "\n",
    "### Hints:\n",
    " - On total you can get 10 points for fully completing all tasks.\n",
    " - Decorate your notebook with, questions, explanation etc, make it self contained and understandable!\n",
    " - Comments you code when necessary\n",
    " - Write functions for repetitive tasks!\n",
    " - Use the pandas package for data loading and handling\n",
    " - Use matplotlib and seaborn for plotting or bokeh and plotly for interactive investigation\n",
    " - Use the scikit learn package for almost everything\n",
    " - Use for loops only if it is really necessary!\n",
    " - Code sharing is not allowed between student! Sharing code will result in zero points.\n",
    " - If you use code found on web, it is OK, but, make its source clear! "
   ]
  }
 ],
 "metadata": {
  "kernelspec": {
   "display_name": "Python 3",
   "language": "python",
   "name": "python3"
  },
  "language_info": {
   "codemirror_mode": {
    "name": "ipython",
    "version": 3
   },
   "file_extension": ".py",
   "mimetype": "text/x-python",
   "name": "python",
   "nbconvert_exporter": "python",
   "pygments_lexer": "ipython3",
   "version": "3.6.10"
  }
 },
 "nbformat": 4,
 "nbformat_minor": 4
}
