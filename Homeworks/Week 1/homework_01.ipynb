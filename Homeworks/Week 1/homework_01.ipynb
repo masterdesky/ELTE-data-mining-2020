{
 "cells": [
  {
   "cell_type": "markdown",
   "metadata": {},
   "source": [
    "# 01. Exploratory data analysis\n",
    "\n",
    "http://patbaa.web.elte.hu/physdm/data/titanic.csv\n",
    "\n",
    "On the link above you will find a dataset about the Titanic passengers. Your task is to explore the dataset.\n",
    "\n",
    "Help for the columns:\n",
    " - `SibSp` - number of sibling/spouses on the ship\n",
    " - `Parch` - number of parent/children on the ship\n",
    " - `Cabin` - the cabin they slept in (if they had a cabin)\n",
    " - `Embarked` - harbour of entering the ship\n",
    " - `Pclass` - passenger class (like on trains)\n",
    " \n",
    "#### Source and more information on the dataset\n",
    "https://public.opendatasoft.com/explore/dataset/titanic-passengers/"
   ]
  },
  {
   "cell_type": "code",
   "execution_count": null,
   "metadata": {},
   "outputs": [],
   "source": [
    "import os\n",
    "import datetime\n",
    "import numpy as np\n",
    "import pandas as pd\n",
    "from tabulate import tabulate\n",
    "\n",
    "import seaborn as sns\n",
    "import matplotlib as mpl\n",
    "import matplotlib.cm as cm\n",
    "import matplotlib.pyplot as plt\n",
    "import matplotlib.ticker as mticker\n",
    "from mpl_toolkits.axes_grid1 import make_axes_locatable\n",
    "\n",
    "from IPython.display import display"
   ]
  },
  {
   "cell_type": "code",
   "execution_count": null,
   "metadata": {},
   "outputs": [],
   "source": [
    "data = './data/'\n",
    "out = './out/'\n",
    "\n",
    "# Bold print for Jupyter Notebook\n",
    "b1 = '\\033[1m'\n",
    "b0 = '\\033[0m'"
   ]
  },
  {
   "cell_type": "markdown",
   "metadata": {},
   "source": [
    "### Just some matplotlib and seaborn parameter tuning"
   ]
  },
  {
   "cell_type": "code",
   "execution_count": null,
   "metadata": {},
   "outputs": [],
   "source": [
    "axistitlesize = 20\n",
    "axisticksize = 17\n",
    "axislabelsize = 26\n",
    "axislegendsize = 23\n",
    "axistextsize = 20\n",
    "axiscbarfontsize = 15\n",
    "\n",
    "# Set axtick dimensions\n",
    "major_size = 6\n",
    "major_width = 1.2\n",
    "minor_size = 3\n",
    "minor_width = 1\n",
    "mpl.rcParams['xtick.major.size'] = major_size\n",
    "mpl.rcParams['xtick.major.width'] = major_width\n",
    "mpl.rcParams['xtick.minor.size'] = minor_size\n",
    "mpl.rcParams['xtick.minor.width'] = minor_width\n",
    "mpl.rcParams['ytick.major.size'] = major_size\n",
    "mpl.rcParams['ytick.major.width'] = major_width\n",
    "mpl.rcParams['ytick.minor.size'] = minor_size\n",
    "mpl.rcParams['ytick.minor.width'] = minor_width\n",
    "\n",
    "mpl.rcParams.update({'figure.autolayout': False})\n",
    "\n",
    "# Seaborn style settings\n",
    "sns.set_style({'axes.axisbelow': True,\n",
    "               'axes.edgecolor': '.8',\n",
    "               'axes.facecolor': 'white',\n",
    "               'axes.grid': True,\n",
    "               'axes.labelcolor': '.15',\n",
    "               'axes.spines.bottom': True,\n",
    "               'axes.spines.left': True,\n",
    "               'axes.spines.right': True,\n",
    "               'axes.spines.top': True,\n",
    "               'figure.facecolor': 'white',\n",
    "               'font.family': ['sans-serif'],\n",
    "               'font.sans-serif': ['Arial',\n",
    "                'DejaVu Sans',\n",
    "                'Liberation Sans',\n",
    "                'Bitstream Vera Sans',\n",
    "                'sans-serif'],\n",
    "               'grid.color': '.8',\n",
    "               'grid.linestyle': '--',\n",
    "               'image.cmap': 'rocket',\n",
    "               'lines.solid_capstyle': 'round',\n",
    "               'patch.edgecolor': 'w',\n",
    "               'patch.force_edgecolor': True,\n",
    "               'text.color': '.15',\n",
    "               'xtick.bottom': True,\n",
    "               'xtick.color': '.15',\n",
    "               'xtick.direction': 'in',\n",
    "               'xtick.top': True,\n",
    "               'ytick.color': '.15',\n",
    "               'ytick.direction': 'in',\n",
    "               'ytick.left': True,\n",
    "               'ytick.right': True})\n",
    "\n",
    "# Colorpalettes, colormaps, etc.\n",
    "sns.set_palette(palette='rocket')\n",
    "\n",
    "# To use with plots with `Pclass` on X-axis\n",
    "class_palette = {\n",
    "    1 : '#FFCC00',\n",
    "    2 : 'gainsboro',\n",
    "    3 : 'peru'\n",
    "}\n",
    "# To use with plots with `Survived` on X-axis\n",
    "survival_palette = {\n",
    "    0 : 'indianred',\n",
    "    1 : 'cornflowerblue'\n",
    "}\n",
    "# To use with plots with `Embarked` on X-axis\n",
    "embarked_palette = {\n",
    "    'C' : 'tab:orange',\n",
    "    'Q' : 'dodgerblue',\n",
    "    'S' : 'forestgreen'\n",
    "}\n",
    "# The same, but for the map\n",
    "embarked_map = {\n",
    "    'C' : 'orange',\n",
    "    'Q' : 'darkblue',\n",
    "    'S' : 'darkgreen'\n",
    "}\n",
    "# To use when visualizing NaN counts\n",
    "nan_color = 'firebrick'\n",
    "\n",
    "# Set alpha on barplots\n",
    "alpha = 0.9"
   ]
  },
  {
   "cell_type": "markdown",
   "metadata": {},
   "source": [
    "#### Lookup Tables for Seaborn boxplots"
   ]
  },
  {
   "cell_type": "code",
   "execution_count": null,
   "metadata": {},
   "outputs": [],
   "source": [
    "# To enumerate classes on the ship\n",
    "classes_lut = {\n",
    "    '1' : '1st class',\n",
    "    '2' : '2nd class',\n",
    "    '3' : '3rd class' \n",
    "}\n",
    "\n",
    "# Historically well-known locations\n",
    "embark_lut = {\n",
    "    'C' : 'Cherbourg',\n",
    "    'Q' : 'Queenstown,\\nIreland',\n",
    "    'S' : 'Southampton'\n",
    "}"
   ]
  },
  {
   "cell_type": "markdown",
   "metadata": {},
   "source": [
    "## 1. Preprocessing\n",
    "\n",
    "Load the above-linked csv file as a pandas dataframe. Check & plot if any of the columns has missing values. If they have, investigate if the missingness is random or not. \n",
    "\n",
    "Impute the missing values in a sensible way:\n",
    " - if only a very small percentage is missing, imputing with the column-wise mean makes sense, or also removing the missing rows makes sense\n",
    " - if in a row almost all the entries is missing, it worth to remove that given row\n",
    " - if a larger portion is missing from a column, usually it worth to encode that with a value that does not appear in the dataset (eg: -1). \n",
    " \n",
    "The imputing method affects different machine learning models different way, but now we are interested only in EDA, so try to keep as much information as possible!"
   ]
  },
  {
   "cell_type": "markdown",
   "metadata": {},
   "source": [
    "### 1./a. Load in and describe dataset"
   ]
  },
  {
   "cell_type": "code",
   "execution_count": null,
   "metadata": {},
   "outputs": [],
   "source": [
    "os.listdir(data)"
   ]
  },
  {
   "cell_type": "code",
   "execution_count": null,
   "metadata": {},
   "outputs": [],
   "source": [
    "df = pd.read_csv(data + 'titanic.csv', sep=',')"
   ]
  },
  {
   "cell_type": "code",
   "execution_count": null,
   "metadata": {},
   "outputs": [],
   "source": [
    "display(df.head())\n",
    "display(df.tail())"
   ]
  },
  {
   "cell_type": "markdown",
   "metadata": {},
   "source": [
    "#### Some notes on this dataset\n",
    "\n",
    "The exact number of passengers and crew members who sailed on the maiden voyage of the RMS Titanic is still a debated topic and slightly varies from source to source. Since a lot of bodies were lost to the sea forever and there are numerous cases of ought-to-be passengers with already redeemed tickets who simply couldn't embark onto the ship, we can only estimate the real number of passengers. According to the database maintained by the *Encyclodepia Titanica*[1], there were $324$ first, $284$ second, and $709$ third-class passengers embarked on the ship. Taking everything into account the passengers numbered $1\\,317$ people and were accompanied by approximately $890$ crew members, leaving a total number of $2\\,207$ people on board. There are a total of $712$ people who had survived the disaster, while approximately $1\\,503$ died during the events. The dataset used in this notebook encompasses data of $891$ passengers out the total of $1\\,317$.\n",
    "\n",
    "---\n",
    "#### Sources\n",
    "[1] : [\"Titanic Passengers and Crew Listings\"](https://www.encyclopedia-titanica.org/manifest.php?q=1). *Encyclopedia Titanica*. Retrieved 12 September 2020."
   ]
  },
  {
   "cell_type": "markdown",
   "metadata": {},
   "source": [
    "### 1./b. Explore some columns in the dataset"
   ]
  },
  {
   "cell_type": "markdown",
   "metadata": {},
   "source": [
    "#### Age distribution"
   ]
  },
  {
   "cell_type": "code",
   "execution_count": null,
   "metadata": {},
   "outputs": [],
   "source": [
    "# Collect non-NaN age values\n",
    "age_col = df[~df['Age'].isna()]['Age']"
   ]
  },
  {
   "cell_type": "code",
   "execution_count": null,
   "metadata": {},
   "outputs": [],
   "source": [
    "nrows = 1\n",
    "ncols = 1\n",
    "fig, axes = plt.subplots(nrows, ncols, figsize=(ncols*15, nrows*9))\n",
    "\n",
    "axes.hist(age_col, bins=(int(np.max(age_col)) - int(np.min(age_col))), density=True,\n",
    "          color='tab:blue', alpha=alpha,\n",
    "          ec='black', lw=0.5, ls='--')\n",
    "\n",
    "axes.set_title('Fig. 1. Distribution of the age of passengers on Titanic',\n",
    "               fontsize=axistitlesize, y=-0.20)\n",
    "axes.set_xlabel('Age of passengers [ $years$ ]', fontsize=axislabelsize, fontweight='bold')\n",
    "axes.set_ylabel('PMF', fontsize=axislabelsize, fontweight='bold')\n",
    "axes.tick_params(axis='both', which='major', labelsize=axisticksize, pad=8)\n",
    "\n",
    "plt.show()"
   ]
  },
  {
   "cell_type": "markdown",
   "metadata": {},
   "source": [
    "#### Place of embarkation"
   ]
  },
  {
   "cell_type": "code",
   "execution_count": null,
   "metadata": {},
   "outputs": [],
   "source": [
    "embark_col = df['Embarked']\n",
    "embark_num = np.unique(embark_col[~embark_col.isna()], return_counts=True)\n",
    "embark_types = [embark_lut[str(c)] for c in embark_num[0]]"
   ]
  },
  {
   "cell_type": "code",
   "execution_count": null,
   "metadata": {},
   "outputs": [],
   "source": [
    "nrows = 1\n",
    "ncols = 1\n",
    "fig, axes = plt.subplots(nrows, ncols, figsize=(ncols*14, nrows*6))\n",
    "\n",
    "axes.bar(embark_types, embark_num[1], width=0.9,\n",
    "         color=list(embarked_palette.values()), alpha=alpha,\n",
    "         ec='black', lw=0.5, align='center')\n",
    "# Write height value of bars over them for clarity\n",
    "for i, v in enumerate(embark_num[1]):\n",
    "    axes.text(x=i, y=(v+axistextsize), s=str(int(v)),\n",
    "              ha='center', va='center',\n",
    "              color='black',\n",
    "              fontsize=axistextsize, fontweight='bold')\n",
    "# Just for the over-bar number to look better\n",
    "axes.set_ylim(None, 700)\n",
    "\n",
    "axes.set_title('Fig. 2. Number of people by place of their embarkation',\n",
    "               fontsize=axistitlesize, y=-0.28)\n",
    "axes.set_xlabel('Place of embarkation', fontsize=axislabelsize, fontweight='bold')\n",
    "axes.set_ylabel('Count of passengers', fontsize=axislabelsize, fontweight='bold')\n",
    "axes.tick_params(axis='both', which='major', labelsize=axisticksize, pad=8)\n",
    "    \n",
    "plt.show()"
   ]
  },
  {
   "cell_type": "markdown",
   "metadata": {},
   "source": [
    "#### Show them on a map"
   ]
  },
  {
   "cell_type": "code",
   "execution_count": null,
   "metadata": {},
   "outputs": [],
   "source": [
    "import folium\n",
    "from  geopy.geocoders import Nominatim\n",
    "geolocator = Nominatim(user_agent='titanic')"
   ]
  },
  {
   "cell_type": "code",
   "execution_count": null,
   "metadata": {},
   "outputs": [],
   "source": [
    "lat = []\n",
    "long = []\n",
    "for c in list(embark_lut.values()):\n",
    "    loc = geolocator.geocode(c)\n",
    "    lat.append(loc.latitude)\n",
    "    long.append(loc.longitude)"
   ]
  },
  {
   "cell_type": "code",
   "execution_count": null,
   "metadata": {},
   "outputs": [],
   "source": [
    "# Creating a Folium map object\n",
    "# --------\n",
    "# Center the map placed to the mean coordinates of the places of embarkation \n",
    "lat_c = np.mean(lat)\n",
    "long_c = np.mean(long)\n",
    "# Here I am using CartoDB's Positron map style for the folium map\n",
    "T_map = folium.Map(location=[lat_c, long_c], width='100%', height='100%',\n",
    "                   zoom_start=7, tiles='CartoDB Positron',\n",
    "                   control_scale=True, scrollWheelZoom=False,\n",
    "                  )\n",
    "\n",
    "# Mark cities on map\n",
    "for i in range(len(embark_lut)):\n",
    "    marker = folium.Marker(location=[lat[i], long[i]],\n",
    "                           icon=folium.Icon(icon='map-marker-alt', prefix='fa', color=list(embarked_map.values())[i]),\n",
    "                           tooltip=list(embark_lut.values())[i],\n",
    "                          )\n",
    "    marker.add_to(T_map)\n",
    "\n",
    "display(T_map)"
   ]
  },
  {
   "cell_type": "markdown",
   "metadata": {},
   "source": [
    "#### Number of siblings"
   ]
  },
  {
   "cell_type": "code",
   "execution_count": null,
   "metadata": {},
   "outputs": [],
   "source": [
    "sibling_col = df['SibSp']\n",
    "sibling_count = np.unique(sibling_col, return_counts=True)"
   ]
  },
  {
   "cell_type": "code",
   "execution_count": null,
   "metadata": {},
   "outputs": [],
   "source": [
    "nrows = 1\n",
    "ncols = 1\n",
    "fig, axes = plt.subplots(nrows, ncols, figsize=(ncols*14, nrows*6))\n",
    "\n",
    "axes.bar(sibling_count[0], sibling_count[1], width=0.9,\n",
    "         color='tab:blue', alpha=alpha,\n",
    "         ec='black', lw=0.5, align='center')\n",
    "# Write height value of bars over them for clarity\n",
    "for i, (sct, n) in enumerate(zip(sibling_count[0], sibling_count[1])):\n",
    "    axes.text(x=sct, y=(n+axistextsize), s=str(int(n)),\n",
    "              ha='center', va='center',\n",
    "              color='black',\n",
    "              fontsize=axistextsize, fontweight='bold')\n",
    "# Just for the over-bar number to look better\n",
    "axes.set_ylim(None, 700)\n",
    "\n",
    "# Format X ticks\n",
    "axes.set_xticks(range(np.max(sibling_count[0]) + 1))\n",
    "axes.set_xticklabels(range(np.max(sibling_count[0]) + 1))\n",
    "\n",
    "axes.set_title('Fig. 3. Number of passengers with given number of siblings.\\nThe figure shows, that there aren\\'t any passengers with\\n$6$ or $7$ siblings.',\n",
    "               fontsize=axistitlesize, y=-0.45)\n",
    "axes.set_xlabel('Number of siblings', fontsize=axislabelsize, fontweight='bold')\n",
    "axes.set_ylabel('Count of passengers', fontweight='bold', fontsize=axislabelsize)\n",
    "axes.tick_params(axis='both', which='major', labelsize=axisticksize, pad=8)\n",
    "    \n",
    "plt.show()"
   ]
  },
  {
   "cell_type": "code",
   "execution_count": null,
   "metadata": {},
   "outputs": [],
   "source": [
    "parch_col = df['Parch']\n",
    "parch_count = np.unique(parch_col, return_counts=True)"
   ]
  },
  {
   "cell_type": "code",
   "execution_count": null,
   "metadata": {},
   "outputs": [],
   "source": [
    "parch_count"
   ]
  },
  {
   "cell_type": "code",
   "execution_count": null,
   "metadata": {},
   "outputs": [],
   "source": [
    "nrows = 1\n",
    "ncols = 1\n",
    "fig, axes = plt.subplots(nrows, ncols, figsize=(ncols*14, nrows*6))\n",
    "\n",
    "axes.bar(parch_count[0], parch_count[1], width=0.9,\n",
    "         color='tab:blue', alpha=alpha,\n",
    "         ec='black', lw=0.5, align='center')\n",
    "# Write height value of bars over them for clarity\n",
    "for i, (pct, n) in enumerate(zip(parch_count[0], parch_count[1])):\n",
    "    axes.text(x=pct, y=(n+axistextsize), s=str(int(n)),\n",
    "              ha='center', va='center',\n",
    "              color='black',\n",
    "              fontsize=axistextsize, fontweight='bold')\n",
    "# Just for the over-bar number to look better\n",
    "axes.set_ylim(None, 750)\n",
    "\n",
    "# Format X ticks\n",
    "axes.set_xticks(range(np.max(parch_count[0]) + 1))\n",
    "axes.set_xticklabels(range(np.max(parch_count[0]) + 1))\n",
    "\n",
    "axes.set_title('Fig. 4. Number of passengers with given number of parents/children',\n",
    "               fontsize=axistitlesize, y=-0.28)\n",
    "axes.set_xlabel('Number of parents/children', fontsize=axislabelsize, fontweight='bold')\n",
    "axes.set_ylabel('Count of passengers', fontweight='bold', fontsize=axislabelsize)\n",
    "axes.tick_params(axis='both', which='major', labelsize=axisticksize, pad=8)\n",
    "    \n",
    "plt.show()"
   ]
  },
  {
   "cell_type": "markdown",
   "metadata": {},
   "source": [
    "#### Distribution of fare prices\n",
    "\n",
    "Fare prices on the Titanic were not standard and were dependent of numerous factors[2], like place of embarkation, size and location of the rented cabin, furnishing, provision, etc. This is the cause of the diverse spectrum of fares seen on the distributions below.\n",
    "\n",
    "---\n",
    "#### Sources\n",
    "[2] : [Encyclopedia Titanica Forums](https://www.encyclopedia-titanica.org/discus/messages/5660/90776.html?1238981549) *Encyclopedia Titanica* Retrieved 12 September 2020."
   ]
  },
  {
   "cell_type": "code",
   "execution_count": null,
   "metadata": {},
   "outputs": [],
   "source": [
    "fare_col = df['Fare']"
   ]
  },
  {
   "cell_type": "code",
   "execution_count": null,
   "metadata": {},
   "outputs": [],
   "source": [
    "nrows = 1\n",
    "ncols = 1\n",
    "fig, axes = plt.subplots(nrows, ncols, figsize=(ncols*15, nrows*9))\n",
    "\n",
    "axes.hist(fare_col, bins=50, density=True,\n",
    "          color='tab:blue', alpha=alpha,\n",
    "          ec='black', lw=0.5, ls='--')\n",
    "axes.set_yscale('log')\n",
    "\n",
    "axes.set_title('Fig. 5. Distribution of fare prices',\n",
    "               fontsize=axistitlesize, y=-0.20)\n",
    "axes.set_xlabel('Fare of passengers [ $GBP$ ]', fontsize=axislabelsize, fontweight='bold')\n",
    "axes.set_ylabel('PMF', fontsize=axislabelsize, fontweight='bold')\n",
    "axes.tick_params(axis='both', which='major', labelsize=axisticksize, pad=8)\n",
    "\n",
    "plt.show()"
   ]
  },
  {
   "cell_type": "markdown",
   "metadata": {},
   "source": [
    "#### Fare prices on different classes"
   ]
  },
  {
   "cell_type": "code",
   "execution_count": null,
   "metadata": {},
   "outputs": [],
   "source": [
    "nrows = 1\n",
    "ncols = 1\n",
    "fig, axes = plt.subplots(nrows, ncols, figsize=(ncols*14, nrows*9))\n",
    "\n",
    "sns.boxplot(x='Pclass', y='Fare', data=df,\n",
    "            palette=class_palette,\n",
    "            showfliers=False,\n",
    "            ax=axes)\n",
    "\n",
    "# Format X ticks\n",
    "# First get the auto-generated labels, then simply translate them using the LUT\n",
    "axes.set_xticklabels(list(map(\n",
    "                                classes_lut.get, # This is the LUT\n",
    "                                [i.get_text() for i in axes.xaxis.get_ticklabels()] # This is the auto-gen. X-ticks\n",
    "                             )))\n",
    "\n",
    "axes.set_title('Fig. 6. Fare price distribution by classes without outliers.\\n' +\n",
    "               'The boxplot shows the first quartile of the dataset.',\n",
    "               fontsize=axistitlesize, y=-0.28)\n",
    "axes.tick_params(axis='both', which='major', labelsize=axisticksize, pad=10)\n",
    "axes.set_xlabel('Rented class', fontsize=axislabelsize, fontweight='bold')\n",
    "axes.set_ylabel('Fare price distribution [ $GBP$ ]', fontsize=axislabelsize, fontweight='bold')\n",
    "\n",
    "plt.show()"
   ]
  },
  {
   "cell_type": "markdown",
   "metadata": {},
   "source": [
    "### 1./c. Explore missing entries"
   ]
  },
  {
   "cell_type": "code",
   "execution_count": null,
   "metadata": {},
   "outputs": [],
   "source": [
    "# Create a mask to analyze missing entries easier\n",
    "nan_mask = df.isna()"
   ]
  },
  {
   "cell_type": "markdown",
   "metadata": {},
   "source": [
    "#### Number of missing values"
   ]
  },
  {
   "cell_type": "code",
   "execution_count": null,
   "metadata": {},
   "outputs": [],
   "source": [
    "nan_count = nan_mask.sum()"
   ]
  },
  {
   "cell_type": "code",
   "execution_count": null,
   "metadata": {},
   "outputs": [],
   "source": [
    "print('Count of missing values:\\n' +\n",
    "      '========================')\n",
    "print(tabulate([[c, nan_count[c]] for c in nan_count.index], headers=['Feature', 'Count of NaNs']))"
   ]
  },
  {
   "cell_type": "code",
   "execution_count": null,
   "metadata": {},
   "outputs": [],
   "source": [
    "nrows = 1\n",
    "ncols = 1\n",
    "fig, axes = plt.subplots(nrows, ncols, figsize=(ncols*14, nrows*6))\n",
    "\n",
    "axes.bar(nan_count.index, nan_count.values, width=0.9,\n",
    "         color=nan_color, alpha=alpha,\n",
    "         ec='black', lw=0.5, align='center')\n",
    "# Write height value of bars over them for clarity\n",
    "for i, v in enumerate(nan_count):\n",
    "    if v != 0:\n",
    "        axes.text(x=i, y=(v+axistextsize), s=str(v),\n",
    "                  ha='center', va='center',\n",
    "                  color='black',\n",
    "                  fontsize=axistextsize, fontweight='bold')\n",
    "# Just for the over-bar number to look better\n",
    "axes.set_ylim(None, 750)\n",
    "    \n",
    "axes.set_title('Fig. 7. Number of missing values in the dataset by columns',\n",
    "               fontsize=axistitlesize, y=-0.45)\n",
    "axes.set_xlabel('Feature columns', fontsize=axislabelsize, fontweight='bold', labelpad=-20)\n",
    "axes.set_ylabel('Count of NaNs', fontsize=axislabelsize, fontweight='bold')\n",
    "axes.tick_params(axis='both', which='major', labelsize=axisticksize)\n",
    "axes.tick_params(axis='x', which='major', rotation=42)\n",
    "\n",
    "plt.show()"
   ]
  },
  {
   "cell_type": "markdown",
   "metadata": {},
   "source": [
    "#### Correlation of missing entries\n",
    "\n",
    "Since there are effectively only two columns with missing entries, I have to deal with these only in my analysis. The figure above shows, that there are $177$ rows with missing `Age` entires and $687$ with missing `Cabin` entries in the dataset. To discover any correlation between these columns, we can count how many rows are missing both of them. If there are a lot of rows, where there are both values are missing, we can confidently declare, there is probably a correlation between the missingness of entries in these columns."
   ]
  },
  {
   "cell_type": "code",
   "execution_count": null,
   "metadata": {},
   "outputs": [],
   "source": [
    "# Count rows where\n",
    "nan_rows_cab = nan_mask[(nan_mask['Cabin']) & (~nan_mask['Age'])].sum().sum()\n",
    "nan_rows_age = nan_mask[(nan_mask['Age']) & (~nan_mask['Cabin'])].sum().sum()\n",
    "nan_rows_both = nan_mask[(nan_mask['Cabin']) & (nan_mask['Age'])].sum().sum()/2\n",
    "\n",
    "# Collecting all into lists\n",
    "corr_plot_x = ['Cabin', 'Both', 'Age']\n",
    "corr_plot_y = [nan_rows_cab, nan_rows_age, nan_rows_both]"
   ]
  },
  {
   "cell_type": "code",
   "execution_count": null,
   "metadata": {},
   "outputs": [],
   "source": [
    "nrows = 1\n",
    "ncols = 1\n",
    "fig, axes = plt.subplots(nrows, ncols, figsize=(ncols*14, nrows*6))\n",
    "\n",
    "axes.bar(corr_plot_x, corr_plot_y, width=0.9,\n",
    "         color=nan_color, alpha=alpha,\n",
    "         ec='black', lw=0.5, align='center')\n",
    "# Write height value of bars over them for clarity\n",
    "for i, v in enumerate(corr_plot_y):\n",
    "    axes.text(x=i, y=(v+axistextsize), s=str(int(v)),\n",
    "              ha='center', va='center',\n",
    "              color='black',\n",
    "              fontsize=axistextsize, fontweight='bold')\n",
    "# Just for the over-bar number to look better\n",
    "axes.set_ylim(None, 600)\n",
    "\n",
    "axes.set_title('Fig. 8. Number of missing values in the `Cabin` and `Age` columns.',\n",
    "               fontsize=axistitlesize, y=-0.28)\n",
    "axes.set_xlabel('Position of NaN values', fontsize=axislabelsize, fontweight='bold')\n",
    "axes.set_ylabel('Count of NaNs', fontsize=axislabelsize, fontweight='bold')\n",
    "axes.tick_params(axis='both', which='major', labelsize=axisticksize, pad=8)\n",
    "    \n",
    "plt.show()"
   ]
  },
  {
   "cell_type": "markdown",
   "metadata": {},
   "source": [
    "The analysis clearly shows, there is no correlation between the missingness of values among the features `Age` and `Cabin`."
   ]
  },
  {
   "cell_type": "markdown",
   "metadata": {},
   "source": [
    "## 2. Heatmap\n",
    "Create a heatmap which shows how many people survived and dies with the different Pclass variables. You need to create a table where the columns indicates if a person survived or not, the rows indicates the different Pclass and the cell values contains the number of people belonging the that given category. The table should be colored based on the value of the cells in the table."
   ]
  },
  {
   "cell_type": "markdown",
   "metadata": {},
   "source": [
    "### 2./a. Exploring the `Pclass` column"
   ]
  },
  {
   "cell_type": "code",
   "execution_count": null,
   "metadata": {},
   "outputs": [],
   "source": [
    "classes_col = df['Pclass']\n",
    "classes_count = np.unique(classes_col, return_counts=True)\n",
    "classes_types = list(classes_lut.values())"
   ]
  },
  {
   "cell_type": "code",
   "execution_count": null,
   "metadata": {},
   "outputs": [],
   "source": [
    "nrows = 1\n",
    "ncols = 1\n",
    "fig, axes = plt.subplots(nrows, ncols, figsize=(ncols*14, nrows*6))\n",
    "\n",
    "axes.bar(classes_types, classes_count[1], width=0.9,\n",
    "         color=list(class_palette.values()), alpha=alpha,\n",
    "         ec='black', lw=0.5, align='center')\n",
    "# Write height value of bars over them for clarity\n",
    "for i, v in enumerate(classes_count[1]):\n",
    "    axes.text(x=i, y=(v+axistextsize), s=str(int(v)),\n",
    "              ha='center', va='center',\n",
    "              color='black',\n",
    "              fontsize=axistextsize, fontweight='bold')\n",
    "# Just for the over-bar number to look better\n",
    "axes.set_ylim(None, 600)\n",
    "\n",
    "axes.set_title('Fig. 9. Number of passengers on different classes',\n",
    "               fontsize=axistitlesize, y=-0.28)\n",
    "axes.set_xlabel('Rented class', fontsize=axislabelsize, fontweight='bold')\n",
    "axes.set_ylabel('Count of passengers', fontweight='bold', fontsize=axislabelsize)\n",
    "axes.tick_params(axis='both', which='major', labelsize=axisticksize, pad=8)\n",
    "    \n",
    "plt.show()"
   ]
  },
  {
   "cell_type": "markdown",
   "metadata": {},
   "source": [
    "### 2./b. Creating heatmap"
   ]
  },
  {
   "cell_type": "markdown",
   "metadata": {},
   "source": [
    "The task description asks us to create a data table with two columns (which indicates the number of survived and deceased people) and $N$ number of rows, where $N$ is the number of the different `Pclass` values. In this case, there are $3$ different classes on the ship, thus the final dimensions of the data table would be $3 \\times 2$."
   ]
  },
  {
   "cell_type": "code",
   "execution_count": null,
   "metadata": {},
   "outputs": [],
   "source": [
    "# Group classes together and count the number of survived people\n",
    "df_heatmap = df[['Pclass', 'Survived']].groupby(['Pclass'], as_index=True).sum()\n",
    "df_heatmap['Deceased'] = classes_count[1] - df_heatmap['Survived']\n",
    "\n",
    "# Convert it to a matrix\n",
    "heatmap = df_heatmap.values"
   ]
  },
  {
   "cell_type": "code",
   "execution_count": null,
   "metadata": {},
   "outputs": [],
   "source": [
    "fig, axes = plt.subplots(figsize=(12,12))\n",
    "\n",
    "# Hide grid and render tiles as squares on the figure\n",
    "axes.grid(False)\n",
    "axes.set_aspect('equal')\n",
    "\n",
    "im = axes.imshow(heatmap)#, cmap='viridis')\n",
    "# Loop over data dimensions and create text annotations.\n",
    "for x in range(heatmap.shape[0]):\n",
    "    for y in range(heatmap.shape[1]):\n",
    "        axes.text(y, x, heatmap[x, y], fontsize=30,\n",
    "                  ha='center', va='center', color='white', fontweight='bold', \n",
    "                  bbox=dict(color=np.array((0,0,0,0.2)), lw=0)\n",
    "                 )\n",
    "\n",
    "# Format X and Y ticks to fit the 2D matrix plot\n",
    "axes.set_xticks([0, 1])\n",
    "axes.set_xticklabels(df_heatmap.columns)\n",
    "axes.set_yticks([0, 1, 2])\n",
    "axes.set_yticklabels(classes_types)\n",
    "\n",
    "axes.set_title('Fig. 10. Heatmap of the number of survived and\\ndeceased people on different classes',\n",
    "               fontsize=axistitlesize, y=-0.16)\n",
    "axes.tick_params(axis='both', which='major', labelsize=axisticksize, pad=10)\n",
    "\n",
    "# Create an axis on the right side of `axes`. The width of `cax` will be 5%\n",
    "# of `axes` and the padding between `cax` and axes will be fixed at 0.1 inch\n",
    "divider = make_axes_locatable(axes)\n",
    "cax = divider.append_axes('right', size='5%', pad=0.1)\n",
    "cbar = plt.colorbar(mappable=im, cax=cax)\n",
    "cbar.ax.tick_params(labelsize=axiscbarfontsize, colors='black')\n",
    "        \n",
    "plt.show()"
   ]
  },
  {
   "cell_type": "markdown",
   "metadata": {},
   "source": [
    "#### 3./c. Visualizing the data above on a stacked barplot\n",
    "\n",
    "Just because that's much more clear and meaningful in my opinion"
   ]
  },
  {
   "cell_type": "code",
   "execution_count": null,
   "metadata": {},
   "outputs": [],
   "source": [
    "nrows = 1\n",
    "ncols = 1\n",
    "fig, axes = plt.subplots(nrows, ncols, figsize=(ncols*14, nrows*9))\n",
    "\n",
    "colors = list(survival_palette.values())\n",
    "ax1 = axes.bar(classes_types, df_heatmap['Survived'], width=0.9,\n",
    "               color=colors[1], alpha=alpha,\n",
    "               ec='white', label='Survived')\n",
    "ax2 = axes.bar(classes_types, df_heatmap['Deceased'], bottom=df_heatmap['Survived'], width=0.9,\n",
    "               color=colors[0], alpha=alpha,\n",
    "               ec='white', label='Deceased')\n",
    "# Write height of bars in their centers\n",
    "# Clear code from : https://medium.com/@priteshbgohil/stacked-bar-chart-in-python-ddc0781f7d5f\n",
    "for r1, r2 in zip(ax1, ax2):\n",
    "    h1 = r1.get_height()\n",
    "    h2 = r2.get_height()\n",
    "    plt.text(r1.get_x() + r1.get_width() / 2., h1 / 2., \"%d\" % h1, fontsize=axistextsize,\n",
    "             ha='center', va='center', fontweight='bold')\n",
    "    plt.text(r2.get_x() + r2.get_width() / 2., h1 + h2 / 2., \"%d\" % h2, fontsize=axistextsize,\n",
    "             ha='center', va='center', fontweight='bold')\n",
    "    \n",
    "\n",
    "axes.set_title('Fig. 11. Number of survived and deceased people by classes',\n",
    "               fontsize=axistitlesize, y=-0.22)\n",
    "axes.tick_params(axis='both', which='major', labelsize=axisticksize, pad=10)\n",
    "axes.set_xlabel('Rented class', fontsize=axislabelsize, fontweight='bold')\n",
    "axes.set_ylabel('Count of passengers', fontsize=axislabelsize, fontweight='bold')\n",
    "\n",
    "axes.legend(fontsize=axislegendsize)\n",
    "\n",
    "plt.show()"
   ]
  },
  {
   "cell_type": "markdown",
   "metadata": {},
   "source": [
    "The survival rate is seemingly correlates with the class of the passangers. Naturally it is hardly surprising, since there are numerous factors, which evidently favored first class travelers. First class passengers were accommodated nearest to the deck of the ship, while people on the third class were placed much closer to the bottom of the ship. The first class passengers also had priority during boarding the lifeboats."
   ]
  },
  {
   "cell_type": "markdown",
   "metadata": {},
   "source": [
    "## 3. Boxplots\n",
    "\n",
    "Create boxplots for each different Pclass. The boxplot should show the age distribution for the given Pclass. Plot all of these next to each other in a row to make it easier to compare!"
   ]
  },
  {
   "cell_type": "code",
   "execution_count": null,
   "metadata": {},
   "outputs": [],
   "source": [
    "nrows = 1\n",
    "ncols = 1\n",
    "fig, axes = plt.subplots(nrows, ncols, figsize=(ncols*14, nrows*9))\n",
    "\n",
    "sns.boxplot(x='Pclass', y='Age', data=df,\n",
    "            palette=class_palette,\n",
    "            showfliers=True,\n",
    "            ax=axes)\n",
    "\n",
    "# Format X ticks\n",
    "# First get the auto-generated labels, then simply translate them using the LUT\n",
    "axes.set_xticklabels(list(map(\n",
    "                                classes_lut.get, # This is the LUT\n",
    "                                [i.get_text() for i in axes.xaxis.get_ticklabels()] # This is the auto-gen. X-ticks\n",
    "                             )))\n",
    "\n",
    "axes.set_title('Fig. 12. Age distribution of people by classes.\\n' +\n",
    "               'The boxplot shows the first quartile of the dataset, while\\n'+\n",
    "                'outliers are also plotted outside of the whiskers.',\n",
    "               fontsize=axistitlesize, y=-0.28)\n",
    "axes.tick_params(axis='both', which='major', labelsize=axisticksize, pad=10)\n",
    "axes.set_xlabel('Rented class', fontsize=axislabelsize, fontweight='bold')\n",
    "axes.set_ylabel('Age distribution [ $years$ ]', fontsize=axislabelsize, fontweight='bold')\n",
    "\n",
    "plt.show()"
   ]
  },
  {
   "cell_type": "markdown",
   "metadata": {},
   "source": [
    "## 4. Correlation matrix\n",
    "\n",
    "Calculate the correlation matrix for the numerical columns. Show it also as a heatmap described at the 1st task. Which feature seems to play the most important role in surviving/not surviving? Explain how and why could that feature be important! "
   ]
  },
  {
   "cell_type": "markdown",
   "metadata": {},
   "source": [
    "#### Step 1. Handle NaN entries\n",
    "\n",
    "Since `Age` is a numerical column, we should replace the missing entries in that first to allow the exploration of correlations between `Age` and other columns. The goal is to find a feature, which has the highest impact on survival rate. To minimalize the bias introduced by artificially adding new data, I'll sample ages randomly from the age distribution, discussed on Fig. 12. above. This will keep the distribution the same as before, and won't alternate the measurable correlation between `Age` and other variables. Or at least I hope. I can't think of anything else better currenly (besides dropping all entries with NaN values, but that would heavily reduce the size of this already small dataset...)"
   ]
  },
  {
   "cell_type": "code",
   "execution_count": null,
   "metadata": {},
   "outputs": [],
   "source": [
    "# Non-NaN age values sorted by `Pclass` values\n",
    "class_age = [df[(~df['Age'].isna()) & (df['Pclass'] == (i+1))]['Age'] for i in range(3)]\n",
    "# NaN age values sorted by `Pclass` values\n",
    "class_age_nan = [df[(df['Age'].isna()) & (df['Pclass'] == (i+1))]['Age'] for i in range(3)]"
   ]
  },
  {
   "cell_type": "code",
   "execution_count": null,
   "metadata": {},
   "outputs": [],
   "source": [
    "# Create a new DataFrame for the correlation analysis\n",
    "df_no_nan = df.copy()"
   ]
  },
  {
   "cell_type": "code",
   "execution_count": null,
   "metadata": {},
   "outputs": [],
   "source": [
    "for i in range(3):\n",
    "    # Number of NaN values where `Pclass` == i\n",
    "    n_nan = len(class_age_nan[i].values)\n",
    "    # Replace the NaN entries in the original slice of the pd.DataFrame `df_non_nan`,\n",
    "    # while keeping the indeces in slice of this pd.DataFrame unchanged.\n",
    "    # The values are sampled from the distribution of the numeric `Age` values.\n",
    "    df_no_nan.loc[class_age_nan[i].index, 'Age'] = np.random.choice(class_age[i], size=n_nan)"
   ]
  },
  {
   "cell_type": "markdown",
   "metadata": {},
   "source": [
    "#### Step 2. Create correlation matrix"
   ]
  },
  {
   "cell_type": "code",
   "execution_count": null,
   "metadata": {},
   "outputs": [],
   "source": [
    "# Collect numeric cols from the dataset\n",
    "numeric_cols = ['Survived', 'Pclass', 'Age', 'Sex', 'SibSp', 'Parch', 'Fare']\n",
    "df_numeric = df_no_nan[numeric_cols]\n",
    "# Sex could be also numeric, if we denote (male, female) by (0, 1)\n",
    "df_numeric['Sex'] = df_numeric['Sex'].map({'male': 0, 'female': 1})"
   ]
  },
  {
   "cell_type": "markdown",
   "metadata": {},
   "source": [
    "#### Step 3. Visualize correlation matrix"
   ]
  },
  {
   "cell_type": "code",
   "execution_count": null,
   "metadata": {},
   "outputs": [],
   "source": [
    "# Create a correlation matrix using the built-in method of Pandas\n",
    "df_corr = df_numeric.corr(method='pearson')\n",
    "np_corr = np.array(df_corr)"
   ]
  },
  {
   "cell_type": "code",
   "execution_count": null,
   "metadata": {},
   "outputs": [],
   "source": [
    "fig, axes = plt.subplots(figsize=(12,12))\n",
    "\n",
    "# Hide grid and render tiles as squares on the figure\n",
    "axes.grid(False)\n",
    "axes.set_aspect('equal')\n",
    "\n",
    "im = axes.imshow(np_corr, vmin=-1, vmax=1)#, cmap='viridis')\n",
    "# Loop over data dimensions and create text annotations.\n",
    "for x in range(np_corr.shape[0]):\n",
    "    for y in range(np_corr.shape[1]):\n",
    "        axes.text(y, x, '{0:.4f}'.format(np_corr[x, y]), fontsize=15,\n",
    "                  ha='center', va='center', color='white', fontweight='bold', \n",
    "                  bbox=dict(color=np.array((0,0,0,0.2)), lw=0)\n",
    "                 )\n",
    "\n",
    "# Format X and Y ticks to fit the 2D correlation plot\n",
    "axes.set_xticks(range(len(df_corr.columns)))\n",
    "axes.set_xticklabels(df_corr.columns)\n",
    "axes.set_yticks(range(len(df_corr.columns)))\n",
    "axes.set_yticklabels(df_corr.columns)\n",
    "# Place X ticks on top\n",
    "axes.xaxis.tick_top()\n",
    "\n",
    "axes.set_title('Fig. 13. Correlation matrix of numeric columns in the dataset',\n",
    "               fontsize=axistitlesize, y=-0.16)\n",
    "axes.tick_params(axis='both', which='major', labelsize=axisticksize, pad=10)\n",
    "\n",
    "# Create an axis on the right side of `axes`. The width of `cax` will be 5%\n",
    "# of `axes` and the padding between `cax` and axes will be fixed at 0.1 inch\n",
    "divider = make_axes_locatable(axes)\n",
    "cax = divider.append_axes('right', size='5%', pad=0.1)\n",
    "cbar = plt.colorbar(mappable=im, cax=cax)\n",
    "cbar.ax.tick_params(labelsize=axiscbarfontsize, colors='black')\n",
    "\n",
    "plt.show()"
   ]
  },
  {
   "cell_type": "markdown",
   "metadata": {},
   "source": [
    "This map needs some explanation to correctly understand it.\n",
    "\n",
    "It seems so, that being female is the main factor in survival on the Titanic, which is completely understandable by being aware of the historical events taken place at the evening hours on the 14th and 15th of April, 1912. It seems so that age mattered the least in survival, which sounds surprising in the light of the same events mentioned in the previous sentence. The latter could be explained by the discrepancy between the infamous, unwritten nautical rule \"Women and children first\" and the actual survival rate of children. However it is true, that almost every children survived on the first and second classes, but just a very few were saved on the third-class[3].\n",
    "\n",
    "The negative correlation between `Age` and `Pclass` or `Fare` and `Pclass` originates from the same problem. `Pclass` considered better, when it's value is lower (1st class is the best, while 3rd is the worst). However smaller `Pclass` values always accompanied with higher `Fare` prices. In simple terms, this means that more luxurious classes costs more, which is pretty uninterestingly common knowledge. But on this plot it could be an easily deceptive information by looking simply at the correlation coefficient and thinking about the fact, that  in reality there is an evident correlation between fare price and the quality of provision. The negative correlation between `Pclass` and `Age` arises from the same thing. Younger people simply don't had as much money, as older people. That's why older passangers was more likely to buy a ticket on better classes (denoted by lower numbers).  \n",
    "The negative correlation between `Pclass` and `Survival` could be also deceptive. As we've seen above, people on higher-tier classes had an advantage at boarding the lifeboats. Also first-class cabins were the nearest to the deck of the ship.\n",
    "\n",
    "There is a negative correlation between `Age` and `SibPc`, which could be simply explained by the fact, that younger people tend to have more siblings. Child mortality was still high in the early 20th century, while life expectancy was still much lower than nowadays. Mothers gave birth to more children, but a lot of them died early and only a few people lived over $60$ years. The result of all of this was a society with a lot of children, and just a handful if elderly people. That's why it was much more likely to find younglings with siblings on the ship.\n",
    "\n",
    "---\n",
    "#### Sources\n",
    "[3] : [\"Children on the Titanic\"](https://www.encyclopedia-titanica.org/children-on-titanic/). *Encyclopedia Titanica*. Retrieved 12 September 2020."
   ]
  },
  {
   "cell_type": "markdown",
   "metadata": {},
   "source": [
    "## 5. Interpretation\n",
    "\n",
    "Create two plots which you think are meaningful. Interpret both of them. (Eg.: older people buy more expensive ticket? people buying more expensive ticket survive more? etc.)"
   ]
  },
  {
   "cell_type": "markdown",
   "metadata": {},
   "source": [
    "### Ideas\n",
    "\n",
    "It would be interesting to expolre the connection between currently still unexplored columns. I really running out of ideas actually. But here's some graphs that I found intersting."
   ]
  },
  {
   "cell_type": "markdown",
   "metadata": {},
   "source": [
    "#### 5./a. If you payed more, you had a much better chance for survival. Oof."
   ]
  },
  {
   "cell_type": "code",
   "execution_count": null,
   "metadata": {},
   "outputs": [],
   "source": [
    "nrows = 1\n",
    "ncols = 1\n",
    "fig, axes = plt.subplots(nrows, ncols, figsize=(ncols*14, nrows*9))\n",
    "\n",
    "sns.boxplot(x='Survived', y='Fare', data=df,\n",
    "            palette=survival_palette,\n",
    "            showfliers=False,\n",
    "            ax=axes)\n",
    "\n",
    "# Format X ticks\n",
    "axes.set_xticklabels(df_heatmap.columns[::-1])\n",
    "\n",
    "axes.set_title('Fig. 14. Correlation of fare price and survival without outliers.\\n' +\n",
    "               'The boxplot shows the first quartile of the dataset.',\n",
    "               fontsize=axistitlesize, y=-0.28)\n",
    "axes.tick_params(axis='both', which='major', labelsize=axisticksize, pad=10)\n",
    "axes.set_xlabel('Survival', fontsize=axislabelsize, fontweight='bold')\n",
    "axes.set_ylabel('Fare price distribution [ $GBP$ ]', fontsize=axislabelsize, fontweight='bold')\n",
    "\n",
    "plt.show()"
   ]
  },
  {
   "cell_type": "markdown",
   "metadata": {},
   "source": [
    "#### 5./b. Where did wealthy people embarked on the ship?\n",
    "\n",
    "It seems so, that Cherbourg was the home of most wealthy people. Or was it? At least it seems to be a robust statement that people who embarked there payed the most for their tickets."
   ]
  },
  {
   "cell_type": "code",
   "execution_count": null,
   "metadata": {},
   "outputs": [],
   "source": [
    "nrows = 1\n",
    "ncols = 1\n",
    "fig, axes = plt.subplots(nrows, ncols, figsize=(ncols*14, nrows*9))\n",
    "\n",
    "sns.boxplot(x='Embarked', y='Fare', data=df,\n",
    "            palette=embarked_palette,\n",
    "            showfliers=False,\n",
    "            ax=axes)\n",
    "\n",
    "# Format X ticks\n",
    "# First get the auto-generated labels, then simply translate them using the LUT\n",
    "axes.set_xticklabels(list(map(\n",
    "                                embark_lut.get, # This is the LUT\n",
    "                                [i.get_text() for i in axes.xaxis.get_ticklabels()] # This is the auto-gen. X-ticks\n",
    "                             )))\n",
    "\n",
    "axes.set_title('Fig. 15. Fare price distribution by place of embarkation without outliers.\\n' +\n",
    "               'The boxplot shows the first quartile of the dataset.',\n",
    "               fontsize=axistitlesize, y=-0.28)\n",
    "axes.tick_params(axis='both', which='major', labelsize=axisticksize, pad=10)\n",
    "axes.set_xlabel('Place of embarkation', fontsize=axislabelsize, fontweight='bold')\n",
    "axes.set_ylabel('Fare price distribution [ $GBP$ ]', fontsize=axislabelsize, fontweight='bold')\n",
    "\n",
    "plt.show()"
   ]
  },
  {
   "cell_type": "markdown",
   "metadata": {},
   "source": [
    "#### 5./c. Where did older people embarked on the ship?\n",
    "\n",
    "There's really no significant difference here. Most of the people embarked in Southampton, which would probably just offset the function closer to the true age distribution of people living in England at the time."
   ]
  },
  {
   "cell_type": "code",
   "execution_count": null,
   "metadata": {},
   "outputs": [],
   "source": [
    "nrows = 1\n",
    "ncols = 1\n",
    "fig, axes = plt.subplots(nrows, ncols, figsize=(ncols*14, nrows*9))\n",
    "\n",
    "sns.boxplot(x='Embarked', y='Age', data=df,\n",
    "            palette=embarked_palette,\n",
    "            showfliers=False,\n",
    "            ax=axes)\n",
    "\n",
    "# Format X ticks\n",
    "# First get the auto-generated labels, then simply translate them using the LUT\n",
    "axes.set_xticklabels(list(map(\n",
    "                                embark_lut.get, # This is the LUT\n",
    "                                [i.get_text() for i in axes.xaxis.get_ticklabels()] # This is the auto-gen. X-ticks\n",
    "                             )))\n",
    "\n",
    "axes.set_title('Fig. 16. Age distribution by place of embarkation without outliers.\\n' +\n",
    "               'The boxplot shows the first quartile of the dataset.',\n",
    "               fontsize=axistitlesize, y=-0.28)\n",
    "axes.tick_params(axis='both', which='major', labelsize=axisticksize, pad=10)\n",
    "axes.set_xlabel('Place of embarkation', fontsize=axislabelsize, fontweight='bold')\n",
    "axes.set_ylabel('Age distribution [ $years$ ]', fontsize=axislabelsize, fontweight='bold')\n",
    "\n",
    "plt.show()"
   ]
  },
  {
   "cell_type": "markdown",
   "metadata": {},
   "source": [
    "### Hints:\n",
    " - On total you can get 10 points for fully completing all tasks.\n",
    " - Decorate your notebook with, questions, explanation etc, make it self contained and understandable!\n",
    " - Comments you code when necessary\n",
    " - Write functions for repetitive tasks!\n",
    " - Use the pandas package for data loading and handling\n",
    " - Use matplotlib and seaborn for plotting or bokeh and plotly for interactive investigation\n",
    " - Use the scikit learn package for almost everything\n",
    " - Use for loops only if it is really necessary!\n",
    " - Code sharing is not allowed between student! Sharing code will result in zero points.\n",
    " - If you use code found on web, it is OK, but, make its source clear! "
   ]
  }
 ],
 "metadata": {
  "kernelspec": {
   "display_name": "Python 3 (ipykernel)",
   "language": "python",
   "name": "python3"
  },
  "language_info": {
   "codemirror_mode": {
    "name": "ipython",
    "version": 3
   },
   "file_extension": ".py",
   "mimetype": "text/x-python",
   "name": "python",
   "nbconvert_exporter": "python",
   "pygments_lexer": "ipython3",
   "version": "3.9.10"
  }
 },
 "nbformat": 4,
 "nbformat_minor": 4
}
