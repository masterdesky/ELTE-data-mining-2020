{
 "cells": [
  {
   "cell_type": "markdown",
   "metadata": {},
   "source": [
    "# 10. Convolutional Neural Networks\n",
    "\n",
    "Please work on Google Colab. (No.)"
   ]
  },
  {
   "cell_type": "code",
   "execution_count": 1,
   "metadata": {},
   "outputs": [],
   "source": [
    "import os\n",
    "import sklearn\n",
    "import numpy as np\n",
    "import pandas as pd\n",
    "\n",
    "import seaborn as sns\n",
    "import matplotlib as mpl\n",
    "import matplotlib.cm as cm\n",
    "import matplotlib.pyplot as plt\n",
    "import matplotlib.ticker as mticker\n",
    "import matplotlib.gridspec as gridspec\n",
    "from mpl_toolkits.axes_grid1 import make_axes_locatable\n",
    "\n",
    "from IPython.display import display"
   ]
  },
  {
   "cell_type": "code",
   "execution_count": 2,
   "metadata": {},
   "outputs": [],
   "source": [
    "from tqdm import tqdm\n",
    "from tqdm import trange"
   ]
  },
  {
   "cell_type": "code",
   "execution_count": 8,
   "metadata": {},
   "outputs": [],
   "source": [
    "import tensorflow as tf\n",
    "from tensorflow.python.client import device_lib\n",
    "\n",
    "from keras.optimizers import Adam\n",
    "from keras.models import Sequential\n",
    "\n",
    "from sklearn.datasets import make_classification\n",
    "from sklearn.preprocessing import label_binarize\n",
    "from sklearn.model_selection import train_test_split"
   ]
  },
  {
   "cell_type": "code",
   "execution_count": 9,
   "metadata": {},
   "outputs": [
    {
     "name": "stdout",
     "output_type": "stream",
     "text": [
      "2.2.0\n"
     ]
    }
   ],
   "source": [
    "print(tf.__version__)"
   ]
  },
  {
   "cell_type": "code",
   "execution_count": 10,
   "metadata": {},
   "outputs": [
    {
     "data": {
      "text/plain": [
       "[PhysicalDevice(name='/physical_device:CPU:0', device_type='CPU'),\n",
       " PhysicalDevice(name='/physical_device:XLA_CPU:0', device_type='XLA_CPU')]"
      ]
     },
     "execution_count": 10,
     "metadata": {},
     "output_type": "execute_result"
    }
   ],
   "source": [
    "tf.config.list_physical_devices()"
   ]
  },
  {
   "cell_type": "code",
   "execution_count": 12,
   "metadata": {},
   "outputs": [
    {
     "name": "stdout",
     "output_type": "stream",
     "text": [
      "Num GPUs Available:  0\n"
     ]
    }
   ],
   "source": [
    "print(\"Num GPUs Available: \", len(tf.config.experimental.list_physical_devices('GPU')))"
   ]
  },
  {
   "cell_type": "code",
   "execution_count": 11,
   "metadata": {},
   "outputs": [
    {
     "data": {
      "text/plain": [
       "[name: \"/device:CPU:0\"\n",
       " device_type: \"CPU\"\n",
       " memory_limit: 268435456\n",
       " locality {\n",
       " }\n",
       " incarnation: 6983810985758047686,\n",
       " name: \"/device:XLA_CPU:0\"\n",
       " device_type: \"XLA_CPU\"\n",
       " memory_limit: 17179869184\n",
       " locality {\n",
       " }\n",
       " incarnation: 13304516376056668369\n",
       " physical_device_desc: \"device: XLA_CPU device\"]"
      ]
     },
     "execution_count": 11,
     "metadata": {},
     "output_type": "execute_result"
    }
   ],
   "source": [
    "device_lib.list_local_devices()"
   ]
  },
  {
   "cell_type": "code",
   "execution_count": 8,
   "metadata": {},
   "outputs": [],
   "source": [
    "# gpu '1' is not working on tesla!!!\n",
    "used_gpu = '0'\n",
    "\n",
    "# training method\n",
    "separate = True\n",
    "\n",
    "# Train split\n",
    "train_split = 0.35"
   ]
  },
  {
   "cell_type": "code",
   "execution_count": 5,
   "metadata": {},
   "outputs": [],
   "source": [
    "data = './data/'\n",
    "out = './out/'\n",
    "\n",
    "# Bold print for Jupyter Notebook\n",
    "b1 = '\\033[1m'\n",
    "b0 = '\\033[0m'"
   ]
  },
  {
   "cell_type": "markdown",
   "metadata": {},
   "source": [
    "### Just some matplotlib and seaborn parameter tuning"
   ]
  },
  {
   "cell_type": "code",
   "execution_count": 6,
   "metadata": {},
   "outputs": [],
   "source": [
    "axistitlesize = 20\n",
    "axisticksize = 17\n",
    "axislabelsize = 26\n",
    "axislegendsize = 23\n",
    "axistextsize = 20\n",
    "axiscbarfontsize = 15\n",
    "\n",
    "# Set axtick dimensions\n",
    "major_size = 6\n",
    "major_width = 1.2\n",
    "minor_size = 3\n",
    "minor_width = 1\n",
    "mpl.rcParams['xtick.major.size'] = major_size\n",
    "mpl.rcParams['xtick.major.width'] = major_width\n",
    "mpl.rcParams['xtick.minor.size'] = minor_size\n",
    "mpl.rcParams['xtick.minor.width'] = minor_width\n",
    "mpl.rcParams['ytick.major.size'] = major_size\n",
    "mpl.rcParams['ytick.major.width'] = major_width\n",
    "mpl.rcParams['ytick.minor.size'] = minor_size\n",
    "mpl.rcParams['ytick.minor.width'] = minor_width\n",
    "\n",
    "mpl.rcParams.update({'figure.autolayout': False})\n",
    "\n",
    "# Seaborn style settings\n",
    "sns.set_style({'axes.axisbelow': True,\n",
    "               'axes.edgecolor': '.8',\n",
    "               'axes.facecolor': 'white',\n",
    "               'axes.grid': True,\n",
    "               'axes.labelcolor': '.15',\n",
    "               'axes.spines.bottom': True,\n",
    "               'axes.spines.left': True,\n",
    "               'axes.spines.right': True,\n",
    "               'axes.spines.top': True,\n",
    "               'figure.facecolor': 'white',\n",
    "               'font.family': ['sans-serif'],\n",
    "               'font.sans-serif': ['Arial',\n",
    "                'DejaVu Sans',\n",
    "                'Liberation Sans',\n",
    "                'Bitstream Vera Sans',\n",
    "                'sans-serif'],\n",
    "               'grid.color': '.8',\n",
    "               'grid.linestyle': '--',\n",
    "               'image.cmap': 'rocket',\n",
    "               'lines.solid_capstyle': 'round',\n",
    "               'patch.edgecolor': 'w',\n",
    "               'patch.force_edgecolor': True,\n",
    "               'text.color': '.15',\n",
    "               'xtick.bottom': True,\n",
    "               'xtick.color': '.15',\n",
    "               'xtick.direction': 'in',\n",
    "               'xtick.top': True,\n",
    "               'ytick.color': '.15',\n",
    "               'ytick.direction': 'in',\n",
    "               'ytick.left': True,\n",
    "               'ytick.right': True})\n",
    "\n",
    "# Colorpalettes, colormaps, etc.\n",
    "sns.set_palette(palette='rocket')"
   ]
  },
  {
   "cell_type": "markdown",
   "metadata": {},
   "source": [
    "### 1. Load the MNIST dataset and create a CNN model\n",
    "\n",
    "- load the MNIST dataset from the tensorflow/keras built-in dataset (just like last time)\n",
    "- use the original train/test split!\n",
    "- divide each pixel's value by 255 and now do not reshape, leave it as is (2D matrix (28x28) )\n",
    "- eg for the test set you will have a (10000, 28, 28) shaped vector\n",
    "- train the following network on the training set and generate prediction for the 10.000 test images:\n",
    "\n",
    "        input (28, 28)\n",
    "        conv2D, 16 kernels, kernel size = 3, valid padding, relu activation\n",
    "        conv2D, 16 kernels, kernel size = 3, valid padding, relu activation\n",
    "        maxpooling kernel size = 2*2\n",
    "        conv2D, 32 kernels, kernel size = 3, valid padding, relu activation\n",
    "        conv2D, 32 kernels, kernel size = 3, valid padding, relu activation\n",
    "        maxpooling kernel size = 2*2\n",
    "        flatten\n",
    "        dense, 10 neurons, softmax activation\n",
    "    * pay attention to channel format, you will need to expand dims!\n",
    "    * how many parameters do we have for each layer?\n",
    "    * use Adam optimizer with default parameters\n",
    "    * use categorical crossentropy as loss function\n",
    "    * compile the model\n",
    "    * print out a summary of the model\n",
    "    * train the CNN on the training data for 5 epochs with batch size of 32\n",
    "    * use the test data as validation data\n",
    "        \n",
    "- calculate the categorical cross-entropy loss and the accuracy! Hint: you should get at least ~98% accuracy\n",
    "- show the confusion matrix of the predictions (predicted values vs actual labels)\n",
    "- where does the model make mistakes? Where does it improve compared to fully connected nets?"
   ]
  },
  {
   "cell_type": "markdown",
   "metadata": {},
   "source": [
    "### 1./a. Load and preprocess the MNIST dataset"
   ]
  },
  {
   "cell_type": "code",
   "execution_count": 45,
   "metadata": {},
   "outputs": [],
   "source": [
    "# Load MNIST dataset\n",
    "(X_train, y_train), (X_test, y_test) = tf.keras.datasets.mnist.load_data(path='mnist.npz')\n",
    "# Scale and reshape data\n",
    "X_train = X_train / 255\n",
    "X_test = X_test / 255"
   ]
  },
  {
   "cell_type": "code",
   "execution_count": 46,
   "metadata": {},
   "outputs": [
    {
     "name": "stdout",
     "output_type": "stream",
     "text": [
      "X_train shape : (60000, 28, 28)\n",
      "y_train shape : (60000,)\n",
      "X_test shape : (10000, 28, 28)\n",
      "y_test shape : (10000,)\n"
     ]
    }
   ],
   "source": [
    "print('X_train shape :', X_train.shape)\n",
    "print('y_train shape :', y_train.shape)\n",
    "print('X_test shape :', X_test.shape)\n",
    "print('y_test shape :', y_test.shape)"
   ]
  },
  {
   "cell_type": "markdown",
   "metadata": {},
   "source": [
    "#### Look at some random images"
   ]
  },
  {
   "cell_type": "code",
   "execution_count": 47,
   "metadata": {},
   "outputs": [
    {
     "data": {
      "image/png": "[encoded data removed]",
      "text/plain": [
       "<Figure size 720x720 with 25 Axes>"
      ]
     },
     "metadata": {},
     "output_type": "display_data"
    }
   ],
   "source": [
    "nrows = 5\n",
    "ncols = 5\n",
    "fig, axes = plt.subplots(nrows, ncols, figsize=(ncols*2, nrows*2))\n",
    "\n",
    "rand_idx = np.random.randint(0, len(X_train), size=nrows*ncols)\n",
    "images = X_train[rand_idx]\n",
    "labels = y_train[rand_idx]\n",
    "\n",
    "for i, ax in enumerate(axes.reshape(-1)):\n",
    "    ax.imshow(images[i], cmap='Greys_r')\n",
    "    ax.set_title('Label : {0}'.format(labels[i]))\n",
    "    ax.axis('off')\n",
    "    ax.grid(False)\n",
    "\n",
    "plt.show()"
   ]
  },
  {
   "cell_type": "markdown",
   "metadata": {},
   "source": [
    "#### Convert labels to one-hot encoded arrays"
   ]
  },
  {
   "cell_type": "code",
   "execution_count": 48,
   "metadata": {},
   "outputs": [],
   "source": [
    "y_train = label_binarize(y_train, classes=np.unique(y_train))\n",
    "y_test = label_binarize(y_test, classes=np.unique(y_test))"
   ]
  },
  {
   "cell_type": "code",
   "execution_count": 49,
   "metadata": {},
   "outputs": [
    {
     "name": "stdout",
     "output_type": "stream",
     "text": [
      "X_train shape : (60000, 28, 28)\n",
      "y_train shape : (60000, 10)\n",
      "X_test shape : (10000, 28, 28)\n",
      "y_test shape : (10000, 10)\n"
     ]
    }
   ],
   "source": [
    "print('X_train shape :', X_train.shape)\n",
    "print('y_train shape :', y_train.shape)\n",
    "print('X_test shape :', X_test.shape)\n",
    "print('y_test shape :', y_test.shape)"
   ]
  },
  {
   "cell_type": "markdown",
   "metadata": {},
   "source": [
    "### 1./b. Training the model"
   ]
  },
  {
   "cell_type": "code",
   "execution_count": 51,
   "metadata": {},
   "outputs": [],
   "source": [
    "def model_ex_1(imsize, stride, kernelsize,\n",
    "               n_channels=1, num_of_filters=16, reg=5e-5,\n",
    "               padding='same', activation='relu', n_class=10):\n",
    "    \"\"\"\n",
    "    Using the modified version of Dezső Ribli's CNN, which I've used\n",
    "    for my BSc thesis work.\n",
    "    \"\"\"\n",
    "    # Tensorflow placeholder for inputs\n",
    "    inputs = kl.Input(shape=(imsize, imsize, n_channels))\n",
    "\n",
    "    #\n",
    "    # Convolutional block 1.\n",
    "    # 3x3CONVx16 -> ReLU -> 3x3CONVx16 -> ReLU -> MAXPOOLx2\n",
    "    #\n",
    "    x = kl.Conv2D(filters=num_of_filters,                   # 3x3CONVx32\n",
    "                  kernel_size=(kernelsize, kernelsize),\n",
    "                  padding=padding,\n",
    "                  strides=(stride, stride),\n",
    "                  kernel_regularizer=kr.l2(reg))(inp)\n",
    "    x = kl.Activation(activation)(kl.BatchNormalization()(x))   # ReLU\n",
    "\n",
    "    x = kl.Conv2D(filters=num_of_filters,                   # 3x3CONVx32\n",
    "                  kernel_size=(kernelsize, kernelsize),\n",
    "                  padding=padding,\n",
    "                  strides=(stride, stride),\n",
    "                  kernel_regularizer=kr.l2(reg))(x)\n",
    "    x = kl.Activation(activation)(kl.BatchNormalization()(x))   # ReLU\n",
    "\n",
    "    x = kl.MaxPooling2D(strides=(2, 2))(x)                  # MAXPOOLx2\n",
    "\n",
    "\n",
    "    #\n",
    "    # Convolutional block 2.\n",
    "    # 3x3CONVx32 -> ReLU -> 3x3CONVx32 -> ReLU -> MAXPOOLx2\n",
    "    #\n",
    "    x = kl.Conv2D(filters=2*num_of_filters,                 # 3x3CONVx64\n",
    "                  kernel_size=(kernelsize, kernelsize),\n",
    "                  padding=padding,\n",
    "                  strides=(stride, stride),\n",
    "                  kernel_regularizer=kr.l2(reg))(x)\n",
    "    x = kl.Activation(activation)(kl.BatchNormalization()(x))   # ReLU\n",
    "\n",
    "    x = kl.Conv2D(filters=2*num_of_filters,                 # 3x3CONVx64\n",
    "                  kernel_size=(kernelsize, kernelsize),\n",
    "                  padding=padding,\n",
    "                  strides=(stride, stride),\n",
    "                  kernel_regularizer=kr.l2(reg))(x)\n",
    "    x = kl.Activation(activation)(kl.BatchNormalization()(x))   # ReLU\n",
    "    \n",
    "    x = kl.MaxPooling2D(strides=(2, 2))(x)                  # MAXPOOLx2\n",
    "\n",
    "    # End of convolution\n",
    "    x = kl.GlobalAveragePooling2D()(x)                      # AVGPOOL\n",
    "\n",
    "    # Final flatten FC\n",
    "    x = kl.Dense(units=n_class,\n",
    "                 activation='softmax',\n",
    "                 name = 'final_dense_n%d_ngpu%d' % (n_class, len(gpu.split(','))))(x)\n",
    "\n",
    "    # Define model\n",
    "    model = km.Model(inputs=inputs, outputs=x)\n",
    "\n",
    "    # Multi GPU model\n",
    "    if(len(gpu.split(',')) > 1):\n",
    "        model = multi_gpu_model(model, gpus=len(gpu.split(',')))\n",
    "\n",
    "    return model"
   ]
  },
  {
   "cell_type": "code",
   "execution_count": null,
   "metadata": {},
   "outputs": [],
   "source": [
    "with tf.device('/gpu:' + used_gpu):\n",
    "    best_model = kc.ModelCheckpoint('./models/best_model.hdf5', save_best_only=True, verbose=1)\n",
    "    \n",
    "    cnn_model = model_ex_1(imsize=28, stride=1, kernelsize=3,\n",
    "                           n_channels=1, num_of_filters=16, reg=5e-5,\n",
    "                           padding='same', activation='relu', n_class=10):"
   ]
  },
  {
   "cell_type": "markdown",
   "metadata": {},
   "source": [
    "### 2. Download the Street View House Numbers (SVHN) Dataset\n",
    "\n",
    "- source: http://ufldl.stanford.edu/housenumbers/\n",
    "- use the cropped dataset!\n",
    "- to get the dataset use eg. wget and keep the original splitting, so download train and test matrix files\n",
    "- preprocess the downloaded data to be able to use it for training and testing, so shapes should be same (except image sizes) as it was in ex 1.\n",
    "- how many classes do we have in the dataset? how many train and test examples do we have?\n",
    "- what is the dimension of the images?\n",
    "- show 5 images from the dataset\n",
    "- make one-hot encoding for the labels"
   ]
  },
  {
   "cell_type": "code",
   "execution_count": null,
   "metadata": {},
   "outputs": [],
   "source": []
  },
  {
   "cell_type": "markdown",
   "metadata": {},
   "source": [
    "### 3. Train the CNN model seen in the 1st exercise for this dataset\n",
    "* create a convolutional neural network\n",
    "* the network should have the following layers:\n",
    "        \n",
    "        input (32, 32, 3)\n",
    "        conv2D, 16 kernels, kernel size = 3, valid padding, relu actvation\n",
    "        conv2D, 16 kernels, kernel size = 3, valid padding, relu actvation\n",
    "        maxpooling kernel size = 2*2\n",
    "        conv2D, 32 kernels, kernel size = 3, valid padding, relu actvation\n",
    "        conv2D, 32 kernels, kernel size = 3, valid padding, relu actvation\n",
    "        maxpooling kernel size = 2*2\n",
    "        flatten\n",
    "        dense, 10 neurons, softmax activation\n",
    "        how many parameters do we have for each layer?\n",
    "\n",
    "    * use Adam optimizer with default parameters\n",
    "    * use categorical crossentropy as loss function\n",
    "    * compile the model\n",
    "    * print out a summary of the model\n",
    "    * train the CNN on the training data for 15 epochs with batch size of 32\n",
    "    * use the test data as validation data\n",
    "- calculate the categorical cross-entropy loss and the accuracy! Hint: you should get at least ~80-90% accuracy"
   ]
  },
  {
   "cell_type": "code",
   "execution_count": null,
   "metadata": {},
   "outputs": [],
   "source": []
  },
  {
   "cell_type": "markdown",
   "metadata": {},
   "source": [
    "### 4. Evaluate performance\n",
    "\n",
    "- plot the training and the validation loss on the same plot!\n",
    "- plot the training and the validation accuracy on the same plot!\n",
    "- do we overfit?\n",
    "- show the confusion matrix of the predictions (predicted values vs actual labels)\n",
    "- where does the model make mistakes?"
   ]
  },
  {
   "cell_type": "code",
   "execution_count": null,
   "metadata": {},
   "outputs": [],
   "source": []
  },
  {
   "cell_type": "markdown",
   "metadata": {},
   "source": [
    "### 5. Train an other CNN\n",
    "- as we can see the previous architecture can be further improved\n",
    "- come up with an architecture that can achieve more than 91% accuracy on the test set\n",
    "- print out the summary for this model!\n",
    "- plot the loss and accuracy curves for this model too!"
   ]
  },
  {
   "cell_type": "code",
   "execution_count": null,
   "metadata": {},
   "outputs": [],
   "source": []
  }
 ],
 "metadata": {
  "kernelspec": {
   "display_name": "Python 3",
   "language": "python",
   "name": "python3"
  },
  "language_info": {
   "codemirror_mode": {
    "name": "ipython",
    "version": 3
   },
   "file_extension": ".py",
   "mimetype": "text/x-python",
   "name": "python",
   "nbconvert_exporter": "python",
   "pygments_lexer": "ipython3",
   "version": "3.8.5"
  }
 },
 "nbformat": 4,
 "nbformat_minor": 4
}
