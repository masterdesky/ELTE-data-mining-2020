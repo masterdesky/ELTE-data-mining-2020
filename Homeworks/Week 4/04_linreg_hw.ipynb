{
 "cells": [
  {
   "cell_type": "markdown",
   "metadata": {},
   "source": [
    "# Linear regression\n",
    "\n",
    "\n",
    "#### 1. Load the provided .npy files. You can load it with numpy.\n",
    " - each file contains one vector, X and y\n",
    " - visualize X vs y on a scatter plot\n",
    " - fit an $y = w_0 + w_1\\cdot X + w_2 \\cdot X^2$ linear regression using sklearn\n",
    "\n",
    "#### 2. Using different features\n",
    " - plot the residuals (the difference between the prediction and the actual $y$) vs the original $y$\n",
    " - a non-random-noise like pattern suggests non-linear connection between the features and the predictions\n",
    " - someone told us that the connection between X and y is $y = A \\cdot X + B \\cdot \\cos^3(X) + C\\cdot X^2 + D$\n",
    "    - using sklearn's linear regression estimate $A, B, C, D$!\n",
    " - plot the residuals again! is it better now?\n",
    "\n",
    "#### 3. Other methdods than sklearn for linear regression\n",
    " - using the statsmodels package perform the same linear regression as in 2.) (hint: use statsmodels.api.OLS)\n",
    " - is the result the same? if not guess, why? (did you not forget to add the constant term?)\n",
    " - try to get the same results with statsmodels as with sklearn!\n",
    " - using the analytic solution formula shown during the lecture, calculate the coefficients (A, B, C, D). are they the same compared to the two previous methods?\n",
    "\n",
    "#### 4. \n",
    " - load the real_estate.csv to a pandas dataframe\n",
    " - drop the ID column and the geographic location columns\n",
    " - fit a linear regression model to predict the unit price using sklearn\n",
    "\n",
    "#### 5. \n",
    " - interpret the coefficients and their meaning shortly with your own words\n",
    " - plot the residuals for the predictions. if you had to decide only on this information, which house would you buy?\n",
    "\n",
    "\n",
    "### Hints:\n",
    " - On total you can get 10 points for fully completing all tasks.\n",
    " - Decorate your notebook with, questions, explanation etc, make it self contained and understandable!\n",
    " - Comments you code when necessary\n",
    " - Write functions for repetitive tasks!\n",
    " - Use the pandas package for data loading and handling\n",
    " - Use matplotlib and seaborn for plotting or bokeh and plotly for interactive investigation\n",
    " - Use the scikit learn package for almost everything\n",
    " - Use for loops only if it is really necessary!\n",
    " - Code sharing is not allowed between student! Sharing code will result in zero points.\n",
    " - If you use code found on web, it is OK, but, make its source clear! "
   ]
  }
 ],
 "metadata": {
  "kernelspec": {
   "display_name": "Python 3",
   "language": "python",
   "name": "python3"
  },
  "language_info": {
   "codemirror_mode": {
    "name": "ipython",
    "version": 3
   },
   "file_extension": ".py",
   "mimetype": "text/x-python",
   "name": "python",
   "nbconvert_exporter": "python",
   "pygments_lexer": "ipython3",
   "version": "3.6.8"
  }
 },
 "nbformat": 4,
 "nbformat_minor": 4
}
