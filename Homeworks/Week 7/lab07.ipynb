{
 "cells": [
  {
   "cell_type": "markdown",
   "metadata": {},
   "source": [
    "### 1.) Linear SVC in case of linear separation\n",
    "\n",
    "- load the Iris dataset (can be found in sklearn API)\n",
    "- scale the data and plot the petal length vs petal width in a scatterplot colored with the target\n",
    "- train an SVC model with linear kernel with default parameter settings, but once with C=1 and then C=1000\n",
    "- visualize the model's decision boundary and the margins based on the coefficients learnt by the model\n",
    "- interpret the results, what is the role of the C hyperparameter?\n",
    "\n",
    "\n",
    "### 2.) Linear SVC but non-linear separation\n",
    "\n",
    "- create a dataset with the following: X, y = sklearn.datasets.make_moons(noise=0.1, random_state=0)\n",
    "- perform the same steps just as in the previous exercise and use the linear kernel for  the SVC\n",
    "- since linear SVC cannot do non-linear separation, you will need to do some workaround, for example adding polynomial features (3rd order would be a good choice)\n",
    "- write down with your own words in few sentences how the support vector machine works \n",
    "\n",
    "### 3.) Load the dataset from 2 weeks ago and build/evaluate the SVC with default settings\n",
    "\n",
    "Reminder:\n",
    "- you need to build a classifier that predicts the probability of a sample coming from a cancerous (tumor type is normal or not) person based on the measured protein levels\n",
    "- train the SVM classifier (SVC in sklearn API) on every second sample (not first 50% of the data (!), use every second line)\n",
    "- generate prediction for the samples that were not used during the training\n",
    "\n",
    "To-do now:\n",
    "- build default SVC, but set it to predict probabilities\n",
    "- plot the ROC curve and calculate the confusion matrix for the predictions\n",
    "- do the same for the CancerSEEK predictions and compare your model's performance to CancerSEEK performance (as a reference, plot it on the same figure)\n",
    "- how good is the performance of the new model?\n",
    "\n",
    "\n",
    "### 4.) Scale data and try different kernels\n",
    "\n",
    "- scale your data before applying the SVC model\n",
    "- plot the ROC curve and calculate the confusion matrix for the predictions\n",
    "- do your model perform better or worse after scaling? \n",
    "- try out other kernels (linear, poly) and evaluate the performance of the model the same way\n",
    "\n",
    "### 5.) Split the data randomly to 3 parts: 70% train, 15% validation, 15% test data and tune hyperparameters\n",
    "\n",
    "- prepare data as described in the title, then scale all input based on the training set\n",
    "- select your best performing SVC model from the previous exercise\n",
    "- check the behaviour of the SVC by modifying at least 3 of its hyperparameters (C, gamma, ...) and plot the AUC value vs the modified parameter (logscale may be better for visualization)\n",
    "- create plots (at least 2) that shows the train, val and test accuracy based on a given hyperparameter's different values. Is it a good idea to rely on validation data when tuning hyperparameter in this case?\n",
    "- select the best settings, train the SVC and evaluate with reference to CancerSEEK results with the ROC curve and the confusion matrix (match your results with CancerSEEK's results on the same dataset splitting)"
   ]
  },
  {
   "cell_type": "markdown",
   "metadata": {},
   "source": [
    "### Hints:\n",
    " - On total you can get 10 points for fully completing all tasks.\n",
    " - Decorate your notebook with, questions, explanation etc, make it self contained and understandable!\n",
    " - Comments you code when necessary\n",
    " - Write functions for repetitive tasks!\n",
    " - Use the pandas package for data loading and handling\n",
    " - Use matplotlib and seaborn for plotting or bokeh and plotly for interactive investigation\n",
    " - Use the scikit learn package for almost everything\n",
    " - Use for loops only if it is really necessary!\n",
    " - Code sharing is not allowed between student! Sharing code will result in zero points.\n",
    " - If you use code found on web, it is OK, but, make its source clear! "
   ]
  }
 ],
 "metadata": {
  "kernelspec": {
   "display_name": "Python 3",
   "language": "python",
   "name": "python3"
  },
  "language_info": {
   "codemirror_mode": {
    "name": "ipython",
    "version": 3
   },
   "file_extension": ".py",
   "mimetype": "text/x-python",
   "name": "python",
   "nbconvert_exporter": "python",
   "pygments_lexer": "ipython3",
   "version": "3.6.8"
  }
 },
 "nbformat": 4,
 "nbformat_minor": 4
}
